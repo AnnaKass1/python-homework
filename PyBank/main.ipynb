{
 "cells": [
  {
   "cell_type": "markdown",
   "id": "3f0ca3f7-d0a7-4e86-a938-7db7028bd9aa",
   "metadata": {},
   "source": [
    "Your task is to create a Python script that analyzes the records to calculate each of the following:\n",
    "\n",
    "\n",
    "The total number of months included in the dataset.\n",
    "\n",
    "\n",
    "The net total amount of Profit/Losses over the entire period.\n",
    "\n",
    "\n",
    "The average of the changes in Profit/Losses over the entire period.\n",
    "\n",
    "\n",
    "The greatest increase in profits (date and amount) over the entire period.\n",
    "\n",
    "\n",
    "The greatest decrease in losses (date and amount) over the entire period.\n",
    "\n",
    "\n",
    "Your resulting analysis should look similar to the following:"
   ]
  },
  {
   "cell_type": "code",
   "execution_count": 4,
   "id": "d84bec84-d82c-41cf-b7ad-18a2983ad774",
   "metadata": {},
   "outputs": [],
   "source": [
    "import csv"
   ]
  },
  {
   "cell_type": "code",
   "execution_count": 8,
   "id": "6771802f-bd72-4e79-951c-84ac0e21636b",
   "metadata": {},
   "outputs": [
    {
     "name": "stdout",
     "output_type": "stream",
     "text": [
      "total month: 38382578\n",
      "86\n",
      "-2315.1176470588234\n",
      "1926159\n",
      "Feb-2012\n",
      "-2196167\n",
      "Sep-2013\n"
     ]
    }
   ],
   "source": [
    "total = 0\n",
    "count = 0\n",
    "previouse = 0\n",
    "total_change = 0\n",
    "max_change = 0\n",
    "max_month = ''\n",
    "min_change = 0\n",
    "min_month = ''\n",
    "with open('budget_data.csv', newline='') as csvfile:\n",
    "    spamreader = csv.reader(csvfile, delimiter=',')\n",
    "    next(spamreader)\n",
    "    for row in spamreader: \n",
    "        current = int(row[1])\n",
    "        total += current \n",
    "        count += 1\n",
    "        if count >1:\n",
    "            change = current - previouse\n",
    "            total_change += change\n",
    "            if change < min_change:\n",
    "                min_change = change\n",
    "                min_month = row[0]\n",
    "            if change > max_change:\n",
    "                max_change = change\n",
    "                max_month = row[0]\n",
    "        previouse = current\n",
    "print (f\"total month:{total}\")\n",
    "print(count)\n",
    "print(total_change/(count-1))\n",
    "print(max_change)\n",
    "print(max_month)\n",
    "print(min_change)\n",
    "print(min_month)\n"
   ]
  },
  {
   "cell_type": "code",
   "execution_count": 38,
   "id": "833feae8-0351-4eaa-9d91-a3b8400e5c49",
   "metadata": {},
   "outputs": [],
   "source": [
    "output=f\"\"\"  Financial Analysis\n",
    "  ----------------------------\n",
    "  Total Months: {count}\n",
    "  Total: ${total}\n",
    "  Average  Change: .${total_change/(count-1):.2f}\n",
    "  Greatest Increase in Profits: {max_month} ${max_change}\n",
    "  Greatest Decrease in Profits: {min_month} ${min_change}\"\"\"\n"
   ]
  },
  {
   "cell_type": "code",
   "execution_count": 39,
   "id": "9e9f4661-8c59-4a89-bdbc-a2424978a01f",
   "metadata": {},
   "outputs": [
    {
     "name": "stdout",
     "output_type": "stream",
     "text": [
      "  Financial Analysis\n",
      "  ----------------------------\n",
      "  Total Months: 86\n",
      "  Total: $38382578\n",
      "  Average  Change: .$-2315.12\n",
      "  Greatest Increase in Profits: Feb-2012 $1926159\n",
      "  Greatest Decrease in Profits: Sep-2013 $-2196167\n"
     ]
    }
   ],
   "source": [
    "print(output)"
   ]
  },
  {
   "cell_type": "code",
   "execution_count": 42,
   "id": "caecd916-89a6-4b4c-b724-ca3583e45065",
   "metadata": {},
   "outputs": [],
   "source": [
    "f = open(\"analysis.txt\", \"w\")\n",
    "f.write(output)\n",
    "f.close()"
   ]
  },
  {
   "cell_type": "code",
   "execution_count": null,
   "id": "dad2fced-b3f6-4fd9-912f-9e8824b06eb4",
   "metadata": {},
   "outputs": [],
   "source": []
  }
 ],
 "metadata": {
  "kernelspec": {
   "display_name": "Python 3 (ipykernel)",
   "language": "python",
   "name": "python3"
  },
  "language_info": {
   "codemirror_mode": {
    "name": "ipython",
    "version": 3
   },
   "file_extension": ".py",
   "mimetype": "text/x-python",
   "name": "python",
   "nbconvert_exporter": "python",
   "pygments_lexer": "ipython3",
   "version": "3.9.13"
  }
 },
 "nbformat": 4,
 "nbformat_minor": 5
}
