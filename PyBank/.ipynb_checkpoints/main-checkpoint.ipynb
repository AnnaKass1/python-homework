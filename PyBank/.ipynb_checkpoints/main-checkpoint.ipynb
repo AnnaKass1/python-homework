{
 "cells": [
  {
   "cell_type": "markdown",
   "id": "3f0ca3f7-d0a7-4e86-a938-7db7028bd9aa",
   "metadata": {},
   "source": [
    "Your task is to create a Python script that analyzes the records to calculate each of the following:\n",
    "\n",
    "\n",
    "The total number of months included in the dataset.\n",
    "\n",
    "\n",
    "The net total amount of Profit/Losses over the entire period.\n",
    "\n",
    "\n",
    "The average of the changes in Profit/Losses over the entire period.\n",
    "\n",
    "\n",
    "The greatest increase in profits (date and amount) over the entire period.\n",
    "\n",
    "\n",
    "The greatest decrease in losses (date and amount) over the entire period.\n",
    "\n",
    "\n",
    "Your resulting analysis should look similar to the following:"
   ]
  },
  {
   "cell_type": "code",
   "execution_count": 1,
   "id": "d84bec84-d82c-41cf-b7ad-18a2983ad774",
   "metadata": {},
   "outputs": [],
   "source": [
    "import csv"
   ]
  },
  {
   "cell_type": "code",
   "execution_count": 13,
   "id": "6771802f-bd72-4e79-951c-84ac0e21636b",
   "metadata": {},
   "outputs": [
    {
     "name": "stdout",
     "output_type": "stream",
     "text": [
      "38382578\n",
      "86\n",
      "-2315.1176470588234\n"
     ]
    }
   ],
   "source": [
    "total = 0\n",
    "count = 0\n",
    "previouse = 0\n",
    "total_change = 0\n",
    "with open('budget_data.csv', newline='') as csvfile:\n",
    "    spamreader = csv.reader(csvfile, delimiter=',')\n",
    "    next(spamreader)\n",
    "    for row in spamreader:\n",
    "        current = int(row[1])\n",
    "        total += current \n",
    "        count += 1\n",
    "        if count >1:\n",
    "            change = current - previouse\n",
    "            total_change += change\n",
    "        previouse = current\n",
    "print(total)\n",
    "print(count)\n",
    "print(total_change/(count-1))\n",
    "\n",
    "\n"
   ]
  }
 ],
 "metadata": {
  "kernelspec": {
   "display_name": "Python 3 (ipykernel)",
   "language": "python",
   "name": "python3"
  },
  "language_info": {
   "codemirror_mode": {
    "name": "ipython",
    "version": 3
   },
   "file_extension": ".py",
   "mimetype": "text/x-python",
   "name": "python",
   "nbconvert_exporter": "python",
   "pygments_lexer": "ipython3",
   "version": "3.9.13"
  }
 },
 "nbformat": 4,
 "nbformat_minor": 5
}
